{
 "cells": [
  {
   "cell_type": "code",
   "execution_count": 2,
   "metadata": {},
   "outputs": [],
   "source": [
    "import os\n",
    "import numpy as np\n",
    "from tensorflow.keras.utils import img_to_array, load_img\n",
    "from PIL import Image\n",
    "\n",
    "%matplotlib inline\n",
    "\n",
    "# # set the image dimensions\n",
    "# img_width, img_height = 224, 224\n",
    "\n",
    "# # create empty arrays for x and y\n",
    "# x = np.zeros((1000, img_width, img_height, 3), dtype=np.float32)\n",
    "# y = np.zeros((1000,), dtype=np.float32)\n",
    "\n",
    "# # loop through the images in the directory and load them into x and y\n",
    "\n",
    "# dir = \"./Google-Image-Scraper/photos/The_Grand_Palace_Bangkok/\"\n",
    "\n",
    "# i = 0\n",
    "# for filename in os.listdir(dir):\n",
    "#     if filename.endswith('.jpg') or filename.endswith('.jpeg') or filename.endswith('.png'):\n",
    "#         img = load_img(dir + filename, target_size=(img_width, img_height))\n",
    "#         x[i] = img_to_array(img)\n",
    "#         # label = \"_\".join(filename.split('_')[:-1]).lower()  # extract label from filename\n",
    "#         # y[i] = label\n",
    "#         y[i] = 0\n",
    "#         i += 1\n",
    "\n",
    "# # convert y to a one-hot encoded matrix\n",
    "# from tensorflow.keras.utils import to_categorical\n",
    "\n",
    "# NUM_CLASSES = 1\n",
    "# y = to_categorical(y, num_classes=NUM_CLASSES)\n",
    "\n",
    "# # save x and y as numpy arrays in a compressed npz file\n",
    "# np.savez_compressed('./the_grand_palace.npz', x=x, y=y)\n",
    "\n",
    "# print(\"_\".join(\"The_Grand_Palace_1\".split('_')[:-1]).lower())\n",
    "data = np.load('the_grand_palace.npz')\n",
    "\n"
   ]
  },
  {
   "cell_type": "code",
   "execution_count": 4,
   "metadata": {},
   "outputs": [],
   "source": [
    "image = Image.fromarray(data['x'][20], 'RGB')\n",
    "image.show()"
   ]
  }
 ],
 "metadata": {
  "kernelspec": {
   "display_name": "deep",
   "language": "python",
   "name": "python3"
  },
  "language_info": {
   "codemirror_mode": {
    "name": "ipython",
    "version": 3
   },
   "file_extension": ".py",
   "mimetype": "text/x-python",
   "name": "python",
   "nbconvert_exporter": "python",
   "pygments_lexer": "ipython3",
   "version": "3.10.4"
  },
  "orig_nbformat": 4,
  "vscode": {
   "interpreter": {
    "hash": "107515d3f0e8105c8a9ddc22b5a362f9a6ff555a2e66c9eceef7c62785c0a7a3"
   }
  }
 },
 "nbformat": 4,
 "nbformat_minor": 2
}
